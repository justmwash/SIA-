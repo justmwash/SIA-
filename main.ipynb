{
 "cells": [
  {
   "cell_type": "code",
   "execution_count": 3,
   "id": "a0a32d69",
   "metadata": {},
   "outputs": [],
   "source": [
    "#imports\n",
    "import numpy as np\n",
    "import pandas as pd\n",
    "import PyPDF2\n",
    "import textblob\n",
    "import warnings\n",
    "warnings.filterwarnings(\"ignore\", category=DeprecationWarning)"
   ]
  },
  {
   "cell_type": "code",
   "execution_count": 105,
   "id": "fb88440d",
   "metadata": {},
   "outputs": [
    {
     "name": "stdout",
     "output_type": "stream",
     "text": [
      "File 1...\n"
     ]
    }
   ],
   "source": [
    "file_1 = 'C:\\\\Users\\\\User\\\\Desktop\\\\KEMRI\\\\Homa Bay UHC Phase II raw scripts\\\\Elderly\\\\elderly.pdf'\n",
    "file_2 = 'C:\\\\Users\\\\User\\\\Desktop\\\\KEMRI\\\\LDA Homabay\\\\charge.pdf'\n",
    "file_3 = 'C:\\\\Users\\\\User\\\\Desktop\\\\KEMRI\\\\Homa Bay UHC Phase II raw scripts\\\\CHV\\\\chv.pdf'\n",
    "file_4 = 'C:\\\\Users\\\\User\\\\Desktop\\\\KEMRI\\\\Homa Bay UHC Phase II raw scripts\\\\Men\\\\Untitled.pdf'\n",
    "open_file_1 = open(file_1,'rb')\n",
    "open_file_2 = open(file_2,'rb')\n",
    "open_file_3 = open(file_3,'rb')\n",
    "open_file_4 = open(file_4,'rb')\n",
    "\n",
    "print(\"File 1...\")"
   ]
  },
  {
   "cell_type": "code",
   "execution_count": 106,
   "id": "fb9e18ba",
   "metadata": {},
   "outputs": [
    {
     "data": {
      "text/plain": [
       "{'/ModDate': \"D:20221103154736+03'00'\", '/Creator': 'Nitro Pro 12'}"
      ]
     },
     "execution_count": 106,
     "metadata": {},
     "output_type": "execute_result"
    }
   ],
   "source": [
    "ind_manifesto = PyPDF2.PdfFileReader(open_file_1)\n",
    "ind_manifesto.getDocumentInfo()"
   ]
  },
  {
   "cell_type": "code",
   "execution_count": 107,
   "id": "f3f63398",
   "metadata": {},
   "outputs": [
    {
     "data": {
      "text/plain": [
       "20"
      ]
     },
     "execution_count": 107,
     "metadata": {},
     "output_type": "execute_result"
    }
   ],
   "source": [
    "total_pages = ind_manifesto.numPages\n",
    "total_pages"
   ]
  },
  {
   "cell_type": "code",
   "execution_count": 108,
   "id": "5b4efa39",
   "metadata": {},
   "outputs": [],
   "source": [
    "import textract\n",
    "count = 0\n",
    "text = ''\n",
    "while(count < total_pages):\n",
    "    mani_page = ind_manifesto.getPage(count)\n",
    "    count += 1\n",
    "    text += mani_page.extractText()\n",
    "\n",
    "if text !='':\n",
    "    text = text\n",
    "    \n",
    "else:\n",
    "    textract.process(open_file_1, method='tesseract')"
   ]
  },
  {
   "cell_type": "code",
   "execution_count": 230,
   "id": "f12537a5",
   "metadata": {},
   "outputs": [
    {
     "name": "stderr",
     "output_type": "stream",
     "text": [
      "[nltk_data] Downloading package punkt to\n",
      "[nltk_data]     C:\\Users\\User\\AppData\\Roaming\\nltk_data...\n",
      "[nltk_data]   Package punkt is already up-to-date!\n"
     ]
    }
   ],
   "source": [
    "from autocorrect import Speller\n",
    "from nltk.tokenize import word_tokenize\n",
    "import nltk\n",
    "nltk.download('punkt')\n",
    "\n",
    "def to_lower(text):\n",
    "    #converting text to lowercase\n",
    "    spell = Speller(lang='en')\n",
    "    text = spell(text)\n",
    "    return ' '.join([w.lower() for w in word_tokenize(text)])\n",
    "lower_case_1 = to_lower(text)\n",
    "#print(lower_case_1)"
   ]
  },
  {
   "cell_type": "code",
   "execution_count": 112,
   "id": "5b6f3dc2",
   "metadata": {},
   "outputs": [
    {
     "name": "stderr",
     "output_type": "stream",
     "text": [
      "[nltk_data] Downloading package stopwords to\n",
      "[nltk_data]     C:\\Users\\User\\AppData\\Roaming\\nltk_data...\n",
      "[nltk_data]   Package stopwords is already up-to-date!\n",
      "[nltk_data] Downloading package wordnet to\n",
      "[nltk_data]     C:\\Users\\User\\AppData\\Roaming\\nltk_data...\n",
      "[nltk_data]   Package wordnet is already up-to-date!\n",
      "[nltk_data] Downloading package omw-1.4 to\n",
      "[nltk_data]     C:\\Users\\User\\AppData\\Roaming\\nltk_data...\n",
      "[nltk_data]   Package omw-1.4 is already up-to-date!\n"
     ]
    },
    {
     "data": {
      "text/plain": [
       "True"
      ]
     },
     "execution_count": 112,
     "metadata": {},
     "output_type": "execute_result"
    }
   ],
   "source": [
    "#breaking individual text phrases into words using word_tokenize\n",
    "import nltk\n",
    "import re\n",
    "import string\n",
    "from nltk.corpus import stopwords, brown\n",
    "from nltk.tokenize import word_tokenize, sent_tokenize, RegexpTokenizer\n",
    "from nltk.stem import WordNetLemmatizer\n",
    "from autocorrect import spell\n",
    "nltk.download('stopwords')\n",
    "nltk.download('wordnet')\n",
    "nltk.download('omw-1.4')"
   ]
  },
  {
   "cell_type": "code",
   "execution_count": 83,
   "id": "fa51a10b",
   "metadata": {},
   "outputs": [
    {
     "name": "stdout",
     "output_type": "stream",
     "text": [
      "File 2...\n"
     ]
    }
   ],
   "source": [
    "print(\"File 2...\")"
   ]
  },
  {
   "cell_type": "code",
   "execution_count": 84,
   "id": "411e9190",
   "metadata": {},
   "outputs": [
    {
     "data": {
      "text/plain": [
       "{'/ModDate': \"D:20221103154323+03'00'\", '/Creator': 'Nitro Pro 12'}"
      ]
     },
     "execution_count": 84,
     "metadata": {},
     "output_type": "execute_result"
    }
   ],
   "source": [
    "ind_manifesto = PyPDF2.PdfFileReader(open_file_2)\n",
    "ind_manifesto.getDocumentInfo()"
   ]
  },
  {
   "cell_type": "code",
   "execution_count": 85,
   "id": "bd6f855c",
   "metadata": {},
   "outputs": [
    {
     "data": {
      "text/plain": [
       "108"
      ]
     },
     "execution_count": 85,
     "metadata": {},
     "output_type": "execute_result"
    }
   ],
   "source": [
    "total_pages = ind_manifesto.numPages\n",
    "total_pages"
   ]
  },
  {
   "cell_type": "code",
   "execution_count": 86,
   "id": "08fb2179",
   "metadata": {},
   "outputs": [],
   "source": [
    "import textract\n",
    "count = 0\n",
    "text = ''\n",
    "while(count < total_pages):\n",
    "    mani_page = ind_manifesto.getPage(count)\n",
    "    count += 1\n",
    "    text += mani_page.extractText()\n",
    "\n",
    "if text !='':\n",
    "    text = text\n",
    "    \n",
    "else:\n",
    "    textract.process(open_file_2, method='tesseract')"
   ]
  },
  {
   "cell_type": "code",
   "execution_count": 231,
   "id": "cca2124a",
   "metadata": {},
   "outputs": [
    {
     "name": "stderr",
     "output_type": "stream",
     "text": [
      "[nltk_data] Downloading package punkt to\n",
      "[nltk_data]     C:\\Users\\User\\AppData\\Roaming\\nltk_data...\n",
      "[nltk_data]   Package punkt is already up-to-date!\n"
     ]
    }
   ],
   "source": [
    "from autocorrect import Speller\n",
    "from nltk.tokenize import word_tokenize\n",
    "import nltk\n",
    "nltk.download('punkt')\n",
    "\n",
    "def to_lower(text):\n",
    "    #converting text to lowercase\n",
    "    spell = Speller(lang='en')\n",
    "    text = spell(text)\n",
    "    return ' '.join([w.lower() for w in word_tokenize(text)])\n",
    "lower_case_2 = to_lower(text)\n",
    "#print(lower_case_2)"
   ]
  },
  {
   "cell_type": "code",
   "execution_count": 113,
   "id": "47350a2b",
   "metadata": {},
   "outputs": [
    {
     "name": "stderr",
     "output_type": "stream",
     "text": [
      "[nltk_data] Downloading package stopwords to\n",
      "[nltk_data]     C:\\Users\\User\\AppData\\Roaming\\nltk_data...\n",
      "[nltk_data]   Package stopwords is already up-to-date!\n",
      "[nltk_data] Downloading package wordnet to\n",
      "[nltk_data]     C:\\Users\\User\\AppData\\Roaming\\nltk_data...\n",
      "[nltk_data]   Package wordnet is already up-to-date!\n",
      "[nltk_data] Downloading package omw-1.4 to\n",
      "[nltk_data]     C:\\Users\\User\\AppData\\Roaming\\nltk_data...\n",
      "[nltk_data]   Package omw-1.4 is already up-to-date!\n"
     ]
    },
    {
     "data": {
      "text/plain": [
       "True"
      ]
     },
     "execution_count": 113,
     "metadata": {},
     "output_type": "execute_result"
    }
   ],
   "source": [
    "#breaking individual text phrases into words using word_tokenize\n",
    "import nltk\n",
    "import re\n",
    "import string\n",
    "from nltk.corpus import stopwords, brown\n",
    "from nltk.tokenize import word_tokenize, sent_tokenize, RegexpTokenizer\n",
    "from nltk.stem import WordNetLemmatizer\n",
    "from autocorrect import spell\n",
    "nltk.download('stopwords')\n",
    "nltk.download('wordnet')\n",
    "nltk.download('omw-1.4')"
   ]
  },
  {
   "cell_type": "code",
   "execution_count": 88,
   "id": "fa10224f",
   "metadata": {},
   "outputs": [
    {
     "name": "stdout",
     "output_type": "stream",
     "text": [
      "File 3...\n"
     ]
    }
   ],
   "source": [
    "print(\"File 3...\")"
   ]
  },
  {
   "cell_type": "code",
   "execution_count": 89,
   "id": "307427fc",
   "metadata": {},
   "outputs": [
    {
     "data": {
      "text/plain": [
       "{'/ModDate': \"D:20221103154641+03'00'\", '/Creator': 'Nitro Pro 12'}"
      ]
     },
     "execution_count": 89,
     "metadata": {},
     "output_type": "execute_result"
    }
   ],
   "source": [
    "ind_manifesto = PyPDF2.PdfFileReader(open_file_3)\n",
    "ind_manifesto.getDocumentInfo()"
   ]
  },
  {
   "cell_type": "code",
   "execution_count": 90,
   "id": "85399aee",
   "metadata": {},
   "outputs": [
    {
     "data": {
      "text/plain": [
       "23"
      ]
     },
     "execution_count": 90,
     "metadata": {},
     "output_type": "execute_result"
    }
   ],
   "source": [
    "total_pages = ind_manifesto.numPages\n",
    "total_pages"
   ]
  },
  {
   "cell_type": "code",
   "execution_count": 91,
   "id": "4a79fa26",
   "metadata": {},
   "outputs": [],
   "source": [
    "import textract\n",
    "count = 0\n",
    "text = ''\n",
    "while(count < total_pages):\n",
    "    mani_page = ind_manifesto.getPage(count)\n",
    "    count += 1\n",
    "    text += mani_page.extractText()\n",
    "\n",
    "if text !='':\n",
    "    text = text\n",
    "    \n",
    "else:\n",
    "    textract.process(open_file_3, method='tesseract')"
   ]
  },
  {
   "cell_type": "code",
   "execution_count": 232,
   "id": "e6e9aea3",
   "metadata": {},
   "outputs": [
    {
     "name": "stderr",
     "output_type": "stream",
     "text": [
      "[nltk_data] Downloading package punkt to\n",
      "[nltk_data]     C:\\Users\\User\\AppData\\Roaming\\nltk_data...\n",
      "[nltk_data]   Package punkt is already up-to-date!\n"
     ]
    }
   ],
   "source": [
    "from autocorrect import Speller\n",
    "from nltk.tokenize import word_tokenize\n",
    "import nltk\n",
    "nltk.download('punkt')\n",
    "\n",
    "def to_lower(text):\n",
    "    #converting text to lowercase\n",
    "    spell = Speller(lang='en')\n",
    "    text = spell(text)\n",
    "    return ' '.join([w.lower() for w in word_tokenize(text)])\n",
    "lower_case_3 = to_lower(text)\n",
    "#print(lower_case_3)"
   ]
  },
  {
   "cell_type": "code",
   "execution_count": 110,
   "id": "cc305873",
   "metadata": {},
   "outputs": [
    {
     "name": "stderr",
     "output_type": "stream",
     "text": [
      "[nltk_data] Downloading package stopwords to\n",
      "[nltk_data]     C:\\Users\\User\\AppData\\Roaming\\nltk_data...\n",
      "[nltk_data]   Package stopwords is already up-to-date!\n",
      "[nltk_data] Downloading package wordnet to\n",
      "[nltk_data]     C:\\Users\\User\\AppData\\Roaming\\nltk_data...\n",
      "[nltk_data]   Package wordnet is already up-to-date!\n",
      "[nltk_data] Downloading package omw-1.4 to\n",
      "[nltk_data]     C:\\Users\\User\\AppData\\Roaming\\nltk_data...\n",
      "[nltk_data]   Package omw-1.4 is already up-to-date!\n"
     ]
    },
    {
     "data": {
      "text/plain": [
       "True"
      ]
     },
     "execution_count": 110,
     "metadata": {},
     "output_type": "execute_result"
    }
   ],
   "source": [
    "#breaking individual text phrases into words using word_tokenize\n",
    "import nltk\n",
    "import re\n",
    "import string\n",
    "from nltk.corpus import stopwords, brown\n",
    "from nltk.tokenize import word_tokenize, sent_tokenize, RegexpTokenizer\n",
    "from nltk.stem import WordNetLemmatizer\n",
    "from autocorrect import spell\n",
    "nltk.download('stopwords')\n",
    "nltk.download('wordnet')\n",
    "nltk.download('omw-1.4')"
   ]
  },
  {
   "cell_type": "code",
   "execution_count": 100,
   "id": "c2174b1f",
   "metadata": {},
   "outputs": [
    {
     "name": "stdout",
     "output_type": "stream",
     "text": [
      "File 4...\n"
     ]
    }
   ],
   "source": [
    "print(\"File 4...\")"
   ]
  },
  {
   "cell_type": "code",
   "execution_count": 101,
   "id": "557e65b6",
   "metadata": {},
   "outputs": [
    {
     "data": {
      "text/plain": [
       "{'/ModDate': \"D:20221103154919+03'00'\", '/Creator': 'Nitro Pro 12'}"
      ]
     },
     "execution_count": 101,
     "metadata": {},
     "output_type": "execute_result"
    }
   ],
   "source": [
    "ind_manifesto = PyPDF2.PdfFileReader(open_file_4)\n",
    "ind_manifesto.getDocumentInfo()"
   ]
  },
  {
   "cell_type": "code",
   "execution_count": 102,
   "id": "09ff8088",
   "metadata": {},
   "outputs": [
    {
     "data": {
      "text/plain": [
       "18"
      ]
     },
     "execution_count": 102,
     "metadata": {},
     "output_type": "execute_result"
    }
   ],
   "source": [
    "total_pages = ind_manifesto.numPages\n",
    "total_pages"
   ]
  },
  {
   "cell_type": "code",
   "execution_count": 103,
   "id": "1e955222",
   "metadata": {},
   "outputs": [],
   "source": [
    "import textract\n",
    "count = 0\n",
    "text = ''\n",
    "while(count < total_pages):\n",
    "    mani_page = ind_manifesto.getPage(count)\n",
    "    count += 1\n",
    "    text += mani_page.extractText()\n",
    "\n",
    "if text !='':\n",
    "    text = text\n",
    "    \n",
    "else:\n",
    "    textract.process(open_file_4, method='tesseract')"
   ]
  },
  {
   "cell_type": "code",
   "execution_count": 233,
   "id": "168b3bfd",
   "metadata": {},
   "outputs": [
    {
     "name": "stderr",
     "output_type": "stream",
     "text": [
      "[nltk_data] Downloading package punkt to\n",
      "[nltk_data]     C:\\Users\\User\\AppData\\Roaming\\nltk_data...\n",
      "[nltk_data]   Package punkt is already up-to-date!\n"
     ]
    }
   ],
   "source": [
    "from autocorrect import Speller\n",
    "from nltk.tokenize import word_tokenize\n",
    "import nltk\n",
    "nltk.download('punkt')\n",
    "\n",
    "def to_lower(text):\n",
    "    #converting text to lowercase\n",
    "    spell = Speller(lang='en')\n",
    "    text = spell(text)\n",
    "    return ' '.join([w.lower() for w in word_tokenize(text)])\n",
    "lower_case_4 = to_lower(text)\n",
    "#print(lower_case_4)"
   ]
  },
  {
   "cell_type": "code",
   "execution_count": 111,
   "id": "88707eb9",
   "metadata": {},
   "outputs": [
    {
     "name": "stderr",
     "output_type": "stream",
     "text": [
      "[nltk_data] Downloading package stopwords to\n",
      "[nltk_data]     C:\\Users\\User\\AppData\\Roaming\\nltk_data...\n",
      "[nltk_data]   Package stopwords is already up-to-date!\n",
      "[nltk_data] Downloading package wordnet to\n",
      "[nltk_data]     C:\\Users\\User\\AppData\\Roaming\\nltk_data...\n",
      "[nltk_data]   Package wordnet is already up-to-date!\n",
      "[nltk_data] Downloading package omw-1.4 to\n",
      "[nltk_data]     C:\\Users\\User\\AppData\\Roaming\\nltk_data...\n",
      "[nltk_data]   Package omw-1.4 is already up-to-date!\n"
     ]
    },
    {
     "data": {
      "text/plain": [
       "True"
      ]
     },
     "execution_count": 111,
     "metadata": {},
     "output_type": "execute_result"
    }
   ],
   "source": [
    "#breaking individual text phrases into words using word_tokenize\n",
    "import nltk\n",
    "import re\n",
    "import string\n",
    "from nltk.corpus import stopwords, brown\n",
    "from nltk.tokenize import word_tokenize, sent_tokenize, RegexpTokenizer\n",
    "from nltk.stem import WordNetLemmatizer\n",
    "from autocorrect import spell\n",
    "nltk.download('stopwords')\n",
    "nltk.download('wordnet')\n",
    "nltk.download('omw-1.4')"
   ]
  },
  {
   "cell_type": "code",
   "execution_count": 119,
   "id": "c14ed856",
   "metadata": {},
   "outputs": [
    {
     "name": "stderr",
     "output_type": "stream",
     "text": [
      "[nltk_data] Downloading package stopwords to\n",
      "[nltk_data]     C:\\Users\\User\\AppData\\Roaming\\nltk_data...\n",
      "[nltk_data]   Package stopwords is already up-to-date!\n",
      "[nltk_data] Error loading tokenize: Package 'tokenize' not found in\n",
      "[nltk_data]     index\n"
     ]
    }
   ],
   "source": [
    "#next removal of stopwords\n",
    "nltk.download('stopwords')\n",
    "nltk.download('tokenize')\n",
    "stop_words=set(nltk.corpus.stopwords.words('english'))"
   ]
  },
  {
   "cell_type": "code",
   "execution_count": 234,
   "id": "6c717682",
   "metadata": {},
   "outputs": [],
   "source": [
    "def clean_text_1(lower_case_1):\n",
    "    # split text phrases into words\n",
    "    words  = nltk.word_tokenize(lower_case_1)\n",
    "    \n",
    "    \n",
    "    # Create a list of all the punctuations we wish to remove\n",
    "    punctuations = ['.', ',', '/', '!', '?', ';', ':', '(',')', '[',']', '-', '_', '%', '...', '....']\n",
    "    \n",
    "    # Remove all the special characters\n",
    "    punctuations = re.sub(r'\\W', ' ', str(lower_case_1))\n",
    "    \n",
    "    # Initialize the stopwords variable, which is a list of words ('and', 'the', 'i', 'yourself', 'is') that do not hold much values as key words\n",
    "    stop_words  = stopwords.words('english')\n",
    "    \n",
    "    # Getting rid of all the words that contain numbers in them\n",
    "    w_num = re.sub('\\w*\\d\\w*', '', lower_case_1).strip()\n",
    "    \n",
    "    # remove all single characters\n",
    "    lower_case_1 = re.sub(r'\\s+[a-zA-Z]\\s+', ' ', lower_case_1)\n",
    "    \n",
    "    # Substituting multiple spaces with single space\n",
    "    lower_case_1 = re.sub(r'\\s+', ' ', lower_case_1, flags=re.I)\n",
    "    \n",
    "    # Removing prefixed 'b'\n",
    "    lower_case_1 = re.sub(r'^b\\s+', '', lower_case_1)\n",
    "    \n",
    "    \n",
    "    \n",
    "    # Removing non-english characters\n",
    "    lower_case_1 = re.sub(r'^b\\s+', '', lower_case_1)\n",
    "    \n",
    "    # Return keywords which are not in stop words \n",
    "    keywords = [word for word in words if not word in stop_words  and word in punctuations and  word in w_num]\n",
    "    \n",
    "    return keywords\n",
    "\n",
    "# Lemmatize the words\n",
    "wordnet_lemmatizer = WordNetLemmatizer()\n",
    "\n",
    "lemmatized_word_1 = [wordnet_lemmatizer.lemmatize(word) for word in clean_text_1(lower_case_1)]\n",
    "\n",
    "# lets print out the output from our function above and see how the data looks like\n",
    "clean_data_1 = ' '.join(lemmatized_word_1)\n",
    "#print(clean_data_1)"
   ]
  },
  {
   "cell_type": "code",
   "execution_count": 121,
   "id": "e399515e",
   "metadata": {},
   "outputs": [
    {
     "name": "stderr",
     "output_type": "stream",
     "text": [
      "[nltk_data] Downloading package stopwords to\n",
      "[nltk_data]     C:\\Users\\User\\AppData\\Roaming\\nltk_data...\n",
      "[nltk_data]   Package stopwords is already up-to-date!\n",
      "[nltk_data] Error loading tokenize: Package 'tokenize' not found in\n",
      "[nltk_data]     index\n"
     ]
    }
   ],
   "source": [
    "#next removal of stopwords\n",
    "nltk.download('stopwords')\n",
    "nltk.download('tokenize')\n",
    "stop_words=set(nltk.corpus.stopwords.words('english'))"
   ]
  },
  {
   "cell_type": "code",
   "execution_count": 235,
   "id": "c4da1d66",
   "metadata": {},
   "outputs": [],
   "source": [
    "def clean_text_2(lower_case_2):\n",
    "    # split text phrases into words\n",
    "    words  = nltk.word_tokenize(lower_case_2)\n",
    "    \n",
    "    \n",
    "    # Create a list of all the punctuations we wish to remove\n",
    "    punctuations = ['.', ',', '/', '!', '?', ';', ':', '(',')', '[',']', '-', '_', '%', '...', '....']\n",
    "    \n",
    "    # Remove all the special characters\n",
    "    punctuations = re.sub(r'\\W', ' ', str(lower_case_2))\n",
    "    \n",
    "    # Initialize the stopwords variable, which is a list of words ('and', 'the', 'i', 'yourself', 'is') that do not hold much values as key words\n",
    "    stop_words  = stopwords.words('english')\n",
    "    \n",
    "    # Getting rid of all the words that contain numbers in them\n",
    "    w_num = re.sub('\\w*\\d\\w*', '', lower_case_2).strip()\n",
    "    \n",
    "    # remove all single characters\n",
    "    lower_case_2 = re.sub(r'\\s+[a-zA-Z]\\s+', ' ', lower_case_2)\n",
    "    \n",
    "    # Substituting multiple spaces with single space\n",
    "    lower_case_2 = re.sub(r'\\s+', ' ', lower_case_2, flags=re.I)\n",
    "    \n",
    "    # Removing prefixed 'b'\n",
    "    lower_case_2 = re.sub(r'^b\\s+', '', lower_case_2)\n",
    "    \n",
    "    \n",
    "    \n",
    "    # Removing non-english characters\n",
    "    lower_case_2 = re.sub(r'^b\\s+', '', lower_case_2)\n",
    "    \n",
    "    # Return keywords which are not in stop words \n",
    "    keywords = [word for word in words if not word in stop_words  and word in punctuations and  word in w_num]\n",
    "    \n",
    "    return keywords\n",
    "\n",
    "# Lemmatize the words\n",
    "wordnet_lemmatizer = WordNetLemmatizer()\n",
    "\n",
    "lemmatized_word_2 = [wordnet_lemmatizer.lemmatize(word) for word in clean_text_2(lower_case_2)]\n",
    "\n",
    "# lets print out the output from our function above and see how the data looks like\n",
    "clean_data_2 = ' '.join(lemmatized_word_2)\n",
    "#print(clean_data_2)"
   ]
  },
  {
   "cell_type": "code",
   "execution_count": 236,
   "id": "c6d2444a",
   "metadata": {},
   "outputs": [],
   "source": [
    "def clean_text_3(lower_case_3):\n",
    "    # split text phrases into words\n",
    "    words  = nltk.word_tokenize(lower_case_3)\n",
    "    \n",
    "    \n",
    "    # Create a list of all the punctuations we wish to remove\n",
    "    punctuations = ['.', ',', '/', '!', '?', ';', ':', '(',')', '[',']', '-', '_', '%', '...', '....']\n",
    "    \n",
    "    # Remove all the special characters\n",
    "    punctuations = re.sub(r'\\W', ' ', str(lower_case_3))\n",
    "    \n",
    "    # Initialize the stopwords variable, which is a list of words ('and', 'the', 'i', 'yourself', 'is') that do not hold much values as key words\n",
    "    stop_words  = stopwords.words('english')\n",
    "    \n",
    "    # Getting rid of all the words that contain numbers in them\n",
    "    w_num = re.sub('\\w*\\d\\w*', '', lower_case_1).strip()\n",
    "    \n",
    "    # remove all single characters\n",
    "    lower_case_3 = re.sub(r'\\s+[a-zA-Z]\\s+', ' ', lower_case_1)\n",
    "    \n",
    "    # Substituting multiple spaces with single space\n",
    "    lower_case_3 = re.sub(r'\\s+', ' ', lower_case_3, flags=re.I)\n",
    "    \n",
    "    # Removing prefixed 'b'\n",
    "    lower_case_3 = re.sub(r'^b\\s+', '', lower_case_3)\n",
    "    \n",
    "    \n",
    "    \n",
    "    # Removing non-english characters\n",
    "    lower_case_3 = re.sub(r'^b\\s+', '', lower_case_3)\n",
    "    \n",
    "    # Return keywords which are not in stop words \n",
    "    keywords = [word for word in words if not word in stop_words  and word in punctuations and  word in w_num]\n",
    "    \n",
    "    return keywords\n",
    "\n",
    "# Lemmatize the words\n",
    "wordnet_lemmatizer = WordNetLemmatizer()\n",
    "\n",
    "lemmatized_word_3 = [wordnet_lemmatizer.lemmatize(word) for word in clean_text_3(lower_case_3)]\n",
    "\n",
    "# lets print out the output from our function above and see how the data looks like\n",
    "clean_data_3 = ' '.join(lemmatized_word_3)\n",
    "#print(clean_data_3)"
   ]
  },
  {
   "cell_type": "code",
   "execution_count": 237,
   "id": "09852782",
   "metadata": {},
   "outputs": [],
   "source": [
    "def clean_text_4(lower_case_4):\n",
    "    # split text phrases into words\n",
    "    words  = nltk.word_tokenize(lower_case_4)\n",
    "    \n",
    "    \n",
    "    # Create a list of all the punctuations we wish to remove\n",
    "    punctuations = ['.', ',', '/', '!', '?', ';', ':', '(',')', '[',']', '-', '_', '%', '...', '....']\n",
    "    \n",
    "    # Remove all the special characters\n",
    "    punctuations = re.sub(r'\\W', ' ', str(lower_case_4))\n",
    "    \n",
    "    # Initialize the stopwords variable, which is a list of words ('and', 'the', 'i', 'yourself', 'is') that do not hold much values as key words\n",
    "    stop_words  = stopwords.words('english')\n",
    "    \n",
    "    # Getting rid of all the words that contain numbers in them\n",
    "    w_num = re.sub('\\w*\\d\\w*', '', lower_case_4).strip()\n",
    "    \n",
    "    # remove all single characters\n",
    "    lower_case_4 = re.sub(r'\\s+[a-zA-Z]\\s+', ' ', lower_case_4)\n",
    "    \n",
    "    # Substituting multiple spaces with single space\n",
    "    lower_case_4 = re.sub(r'\\s+', ' ', lower_case_4, flags=re.I)\n",
    "    \n",
    "    # Removing prefixed 'b'\n",
    "    lower_case_4 = re.sub(r'^b\\s+', '', lower_case_4)\n",
    "    \n",
    "    \n",
    "    \n",
    "    # Removing non-english characters\n",
    "    lower_case_4 = re.sub(r'^b\\s+', '', lower_case_4)\n",
    "    \n",
    "    # Return keywords which are not in stop words \n",
    "    keywords = [word for word in words if not word in stop_words  and word in punctuations and  word in w_num]\n",
    "    \n",
    "    return keywords\n",
    "\n",
    "# Lemmatize the words\n",
    "wordnet_lemmatizer = WordNetLemmatizer()\n",
    "\n",
    "lemmatized_word_4 = [wordnet_lemmatizer.lemmatize(word) for word in clean_text_4(lower_case_4)]\n",
    "\n",
    "# lets print out the output from our function above and see how the data looks like\n",
    "clean_data_4 = ' '.join(lemmatized_word_4)\n",
    "#print(clean_data_4)"
   ]
  },
  {
   "cell_type": "code",
   "execution_count": 238,
   "id": "ad1cfb1b",
   "metadata": {},
   "outputs": [
    {
     "name": "stderr",
     "output_type": "stream",
     "text": [
      "[nltk_data] Downloading package stopwords to\n",
      "[nltk_data]     C:\\Users\\User\\AppData\\Roaming\\nltk_data...\n",
      "[nltk_data]   Package stopwords is already up-to-date!\n",
      "[nltk_data] Error loading tokenize: Package 'tokenize' not found in\n",
      "[nltk_data]     index\n"
     ]
    }
   ],
   "source": [
    "#next removal of stopwords\n",
    "nltk.download('stopwords')\n",
    "nltk.download('tokenize')\n",
    "stop_words=set(nltk.corpus.stopwords.words('english'))"
   ]
  },
  {
   "cell_type": "code",
   "execution_count": 239,
   "id": "f3e9a90c",
   "metadata": {},
   "outputs": [],
   "source": [
    "#FINDING POLARITY/SENTIMENT\n",
    "#This is a set of Natural Language Processing (NLP) technique of analysing,\n",
    "#identifying and categorizing opinions expressed in a piece of text, \n",
    "#in order to determine whether the writer's attitude towards a particular topic, product,\n",
    "#politics, services, brands etc. is positive, negative, or neutral.\n",
    "#This data holds immense value in the fields of marketing analysis, public relations,\n",
    "#product reviews, net promoter scoring, product feedback, and customer service, for example."
   ]
  },
  {
   "cell_type": "code",
   "execution_count": 240,
   "id": "425b3a1f",
   "metadata": {},
   "outputs": [],
   "source": [
    "from collections import defaultdict\n",
    "from vaderSentiment.vaderSentiment import SentimentIntensityAnalyzer\n",
    "from textblob import TextBlob"
   ]
  },
  {
   "cell_type": "code",
   "execution_count": 241,
   "id": "930a294e",
   "metadata": {},
   "outputs": [
    {
     "name": "stdout",
     "output_type": "stream",
     "text": [
      "Sentiment Intensity Analyzation for File 1...\n"
     ]
    }
   ],
   "source": [
    "print(\"Sentiment Intensity Analyzation for File 1...\")"
   ]
  },
  {
   "cell_type": "code",
   "execution_count": 242,
   "id": "ab8631e7",
   "metadata": {
    "scrolled": true
   },
   "outputs": [
    {
     "data": {
      "text/plain": [
       "Sentiment(polarity=0.17662126365697797, subjectivity=0.5100161135161133)"
      ]
     },
     "execution_count": 242,
     "metadata": {},
     "output_type": "execute_result"
    }
   ],
   "source": [
    "blob_1 = TextBlob(clean_data_1)\n",
    "blob_1.sentiment"
   ]
  },
  {
   "cell_type": "code",
   "execution_count": 243,
   "id": "2f09f1ab",
   "metadata": {},
   "outputs": [
    {
     "name": "stdout",
     "output_type": "stream",
     "text": [
      "Sentiment Intensity Analyzation for File 2...\n"
     ]
    }
   ],
   "source": [
    "print(\"Sentiment Intensity Analyzation for File 2...\")"
   ]
  },
  {
   "cell_type": "code",
   "execution_count": 244,
   "id": "a749c090",
   "metadata": {},
   "outputs": [
    {
     "data": {
      "text/plain": [
       "Sentiment(polarity=0.17662126365697797, subjectivity=0.5100161135161133)"
      ]
     },
     "execution_count": 244,
     "metadata": {},
     "output_type": "execute_result"
    }
   ],
   "source": [
    "blob_2 = TextBlob(clean_data_2)\n",
    "blob_2.sentiment"
   ]
  },
  {
   "cell_type": "code",
   "execution_count": 245,
   "id": "a8001807",
   "metadata": {},
   "outputs": [
    {
     "name": "stdout",
     "output_type": "stream",
     "text": [
      "Sentiment Intensity Analyzation for File 3...\n"
     ]
    }
   ],
   "source": [
    "print(\"Sentiment Intensity Analyzation for File 3...\")"
   ]
  },
  {
   "cell_type": "code",
   "execution_count": 246,
   "id": "5725327b",
   "metadata": {},
   "outputs": [
    {
     "data": {
      "text/plain": [
       "Sentiment(polarity=0.17662126365697797, subjectivity=0.5100161135161133)"
      ]
     },
     "execution_count": 246,
     "metadata": {},
     "output_type": "execute_result"
    }
   ],
   "source": [
    "blob_3 = TextBlob(clean_data_3)\n",
    "blob_3.sentiment"
   ]
  },
  {
   "cell_type": "code",
   "execution_count": 247,
   "id": "b6e1e7ac",
   "metadata": {},
   "outputs": [
    {
     "name": "stdout",
     "output_type": "stream",
     "text": [
      "Sentiment Intensity Analyzation for File 4...\n"
     ]
    }
   ],
   "source": [
    "print(\"Sentiment Intensity Analyzation for File 4...\")"
   ]
  },
  {
   "cell_type": "code",
   "execution_count": 248,
   "id": "d5699512",
   "metadata": {},
   "outputs": [
    {
     "data": {
      "text/plain": [
       "Sentiment(polarity=0.17662126365697797, subjectivity=0.5100161135161133)"
      ]
     },
     "execution_count": 248,
     "metadata": {},
     "output_type": "execute_result"
    }
   ],
   "source": [
    "blob_4 = TextBlob(clean_data_4)\n",
    "blob_4.sentiment"
   ]
  },
  {
   "cell_type": "code",
   "execution_count": 249,
   "id": "b720bb49",
   "metadata": {},
   "outputs": [],
   "source": [
    "#creating csv to fill in our SIA\n",
    "import csv\n",
    "\n",
    "#field names\n",
    "fields = {'Group', 'Polarity', 'Subjectivity'}\n",
    "\n",
    "#data rows of csv file\n",
    "rows = [['Elderly', '0.17662126365697797', '0.5100161135161133'],\n",
    "        ['In Charge', '0.1552613930420643', '0.445031494276032'],\n",
    "        ['CHV', '0.18721124873657924', '0.48828565707420296'],\n",
    "        ['Men', '0.18182669272475102', '0.5056032002876663']]\n",
    "\n",
    "#name of csv file\n",
    "filename = \"sia.csv\"\n",
    "\n",
    "#writing to csv file\n",
    "with open(filename, 'w') as csvfile: \n",
    "    # creating a csv writer object \n",
    "    csvwriter = csv.writer(csvfile) \n",
    "        \n",
    "    # writing the fields \n",
    "    csvwriter.writerow(fields) \n",
    "        \n",
    "    # writing the data rows \n",
    "    csvwriter.writerows(rows)"
   ]
  },
  {
   "cell_type": "code",
   "execution_count": 250,
   "id": "ccd19a36",
   "metadata": {},
   "outputs": [
    {
     "data": {
      "text/html": [
       "<div>\n",
       "<style scoped>\n",
       "    .dataframe tbody tr th:only-of-type {\n",
       "        vertical-align: middle;\n",
       "    }\n",
       "\n",
       "    .dataframe tbody tr th {\n",
       "        vertical-align: top;\n",
       "    }\n",
       "\n",
       "    .dataframe thead th {\n",
       "        text-align: right;\n",
       "    }\n",
       "</style>\n",
       "<table border=\"1\" class=\"dataframe\">\n",
       "  <thead>\n",
       "    <tr style=\"text-align: right;\">\n",
       "      <th></th>\n",
       "      <th>Group</th>\n",
       "      <th>Polarity</th>\n",
       "      <th>Subjectivity</th>\n",
       "    </tr>\n",
       "  </thead>\n",
       "  <tbody>\n",
       "    <tr>\n",
       "      <th>0</th>\n",
       "      <td>Elderly</td>\n",
       "      <td>0.176621</td>\n",
       "      <td>0.510016</td>\n",
       "    </tr>\n",
       "    <tr>\n",
       "      <th>1</th>\n",
       "      <td>In Charge</td>\n",
       "      <td>0.155261</td>\n",
       "      <td>0.445031</td>\n",
       "    </tr>\n",
       "    <tr>\n",
       "      <th>2</th>\n",
       "      <td>CHV</td>\n",
       "      <td>0.187211</td>\n",
       "      <td>0.488286</td>\n",
       "    </tr>\n",
       "    <tr>\n",
       "      <th>3</th>\n",
       "      <td>Men</td>\n",
       "      <td>0.181827</td>\n",
       "      <td>0.505603</td>\n",
       "    </tr>\n",
       "  </tbody>\n",
       "</table>\n",
       "</div>"
      ],
      "text/plain": [
       "       Group  Polarity  Subjectivity\n",
       "0    Elderly  0.176621      0.510016\n",
       "1  In Charge  0.155261      0.445031\n",
       "2        CHV  0.187211      0.488286\n",
       "3        Men  0.181827      0.505603"
      ]
     },
     "execution_count": 250,
     "metadata": {},
     "output_type": "execute_result"
    }
   ],
   "source": [
    "df = pd.DataFrame(pd.read_csv('sia.csv'))\n",
    "df"
   ]
  },
  {
   "cell_type": "code",
   "execution_count": 251,
   "id": "3d1df87f",
   "metadata": {},
   "outputs": [
    {
     "data": {
      "text/plain": [
       "0      Elderly\n",
       "1    In Charge\n",
       "2          CHV\n",
       "3          Men\n",
       "Name: Group, dtype: object"
      ]
     },
     "execution_count": 251,
     "metadata": {},
     "output_type": "execute_result"
    }
   ],
   "source": [
    "df[\"Group\"]"
   ]
  },
  {
   "cell_type": "code",
   "execution_count": 252,
   "id": "071b9d68",
   "metadata": {},
   "outputs": [
    {
     "data": {
      "text/plain": [
       "0    0.176621\n",
       "1    0.155261\n",
       "2    0.187211\n",
       "3    0.181827\n",
       "Name: Polarity, dtype: float64"
      ]
     },
     "execution_count": 252,
     "metadata": {},
     "output_type": "execute_result"
    }
   ],
   "source": [
    "df[\"Polarity\"]"
   ]
  },
  {
   "cell_type": "code",
   "execution_count": 253,
   "id": "7954e38f",
   "metadata": {},
   "outputs": [],
   "source": [
    "import matplotlib.pyplot as plt"
   ]
  },
  {
   "cell_type": "code",
   "execution_count": 257,
   "id": "c48d291c",
   "metadata": {
    "scrolled": true
   },
   "outputs": [
    {
     "data": {
      "image/png": "[encoded data removed]",
      "text/plain": [
       "<Figure size 1200x800 with 1 Axes>"
      ]
     },
     "metadata": {},
     "output_type": "display_data"
    }
   ],
   "source": [
    "# setting width of bar\n",
    "barWidth = 0.3\n",
    "fig = plt.subplots(figsize =(12, 8))\n",
    " \n",
    "# setting height of bar\n",
    "Polarity = [0.17662126365697797, 0.1552613930420643, 0.18721124873657924, 0.18182669272475102]\n",
    "Subectvity = [0.5100161135161133, 0.445031494276032, 0.48828565707420296, 0.5056032002876663]\n",
    " \n",
    "# Setting position of bar on X axis\n",
    "br1 = np.arange(len(Polarity))\n",
    "br2 = [x + barWidth for x in br1]\n",
    "br3 = [x + barWidth for x in br2]\n",
    " \n",
    "# Making the plot\n",
    "plt.bar(br1, Polarity, color ='r', width = barWidth,\n",
    "        edgecolor ='grey', label ='Polarity')\n",
    "plt.bar(br2, Subectvity, color ='g', width = barWidth,\n",
    "        edgecolor ='grey', label ='Subectvity')\n",
    " \n",
    "# Adding Xticks\n",
    "plt.xlabel('Group', fontweight ='bold', fontsize = 15)\n",
    "plt.ylabel('Sentiment Intensity Analyzation', fontweight ='bold', fontsize = 15)\n",
    "plt.xticks([r + barWidth for r in range(len(Polarity))],\n",
    "        ['Elderly', 'In Charge', 'CHV', 'Men'])\n",
    " \n",
    "plt.legend()\n",
    "plt.show()"
   ]
  },
  {
   "cell_type": "code",
   "execution_count": null,
   "id": "d216d435",
   "metadata": {},
   "outputs": [],
   "source": []
  }
 ],
 "metadata": {
  "kernelspec": {
   "display_name": "Python 3 (ipykernel)",
   "language": "python",
   "name": "python3"
  },
  "language_info": {
   "codemirror_mode": {
    "name": "ipython",
    "version": 3
   },
   "file_extension": ".py",
   "mimetype": "text/x-python",
   "name": "python",
   "nbconvert_exporter": "python",
   "pygments_lexer": "ipython3",
   "version": "3.9.13"
  }
 },
 "nbformat": 4,
 "nbformat_minor": 5
}
